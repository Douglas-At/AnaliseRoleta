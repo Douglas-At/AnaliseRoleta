{
 "cells": [
  {
   "cell_type": "code",
   "execution_count": 68,
   "metadata": {},
   "outputs": [],
   "source": [
    "import matplotlib.pyplot as plt\n",
    "import numpy as np\n",
    "import hashlib\n",
    "import time\n",
    "import hmac"
   ]
  },
  {
   "cell_type": "code",
   "execution_count": 69,
   "metadata": {},
   "outputs": [],
   "source": [
    "salt = \"0xd2867566759e9158bda9bf93b343bbd9aa02ce1e0c5bc2b37a2d70d391b04f14\"\n",
    "e = 2**52"
   ]
  },
  {
   "cell_type": "code",
   "execution_count": 70,
   "metadata": {},
   "outputs": [],
   "source": [
    "hash_partida = 'bfb99dd5642e6e21733cccb66272e603117760e0d9cffa1eb3a5c19a0520e46f'  #refenreica de 3.08\n",
    "\n",
    "\n",
    "#fonte de dados sobre como a honestidade dos resultados rola \n",
    "#https://roobet.com/fair\n"
   ]
  },
  {
   "cell_type": "code",
   "execution_count": 71,
   "metadata": {},
   "outputs": [],
   "source": [
    "def resultado(hash_partida):\n",
    "    hm = hmac.new(str.encode(hash_partida), b'', hashlib.sha256)\n",
    "    hm.update(salt.encode(\"utf-8\"))\n",
    "    h = hm.hexdigest()\n",
    "    if (int(h, 16) % 33 == 0):\n",
    "        return 1\n",
    "    h = int(h[:13], 16)\n",
    "    e = 2**52\n",
    "    return (((100 * e - h) / (e-h)) // 1) / 100.0\n",
    "\n",
    "def partida_anterior(hash_code):\n",
    "    m = hashlib.sha256()\n",
    "    m.update(hash_code.encode(\"utf-8\"))\n",
    "    return m.hexdigest()"
   ]
  },
  {
   "cell_type": "code",
   "execution_count": 72,
   "metadata": {},
   "outputs": [
    {
     "data": {
      "text/plain": [
       "3.08"
      ]
     },
     "execution_count": 72,
     "metadata": {},
     "output_type": "execute_result"
    }
   ],
   "source": [
    "resultado(hash_partida)\n"
   ]
  },
  {
   "cell_type": "code",
   "execution_count": 73,
   "metadata": {},
   "outputs": [],
   "source": [
    "ult_partida = '5ec9caae6ebf166e0ea5220846eb1b1b83421e4b1a20dc561b17e84f111259fa' # Update to latest game's hash for more results\n",
    "prim_partida = \"77b271fe12fca03c618f63dfb79d4105726ba9d4a25bb3f1964e435ccf9cb209\"\n",
    "\n",
    "resultados = []\n",
    "contador = 0\n",
    "while ult_partida != prim_partida:\n",
    "    contador += 1\n",
    "    resultados.append(resultado(ult_partida))\n",
    "    ult_partida = partida_anterior(ult_partida)\n",
    "    if contador == 500000:\n",
    "        break\n",
    "    \n",
    "resultados = np.array(resultados)"
   ]
  },
  {
   "cell_type": "code",
   "execution_count": 74,
   "metadata": {},
   "outputs": [
    {
     "data": {
      "text/plain": [
       "0.951592"
      ]
     },
     "execution_count": 74,
     "metadata": {},
     "output_type": "execute_result"
    }
   ],
   "source": [
    "multiplicador = 20\n",
    "#probabilidea de erro\n",
    "(resultados <= multiplicador).mean()\n",
    "\n",
    "\n",
    "\n",
    "# entendesse que eu tenho 52% de chance de perder $ ganho aposto com 2 de multiplicador, usando caso real "
   ]
  },
  {
   "cell_type": "markdown",
   "metadata": {},
   "source": [
    "### Martin Gale \n"
   ]
  },
  {
   "cell_type": "code",
   "execution_count": 75,
   "metadata": {},
   "outputs": [],
   "source": [
    "#hipote de balnaço de 1000 reias \n",
    "valor_aposta = 0.01\n",
    "conta = 1000\n",
    "alvo = 2\n",
    "\n",
    "def Martingale(resultados,alvo,valor_aposta,conta):\n",
    "    \n",
    "    balanco = [conta]\n",
    "    valores_apostados = [0]\n",
    "    erro = 0\n",
    "    for i in resultados:\n",
    "        valores_apostados.append(valor_aposta*2**erro)\n",
    "\n",
    "        if alvo >= i:\n",
    "            \n",
    "            balanco.append(conta + valor_aposta*2**erro)\n",
    "            erro = 0\n",
    "        else:\n",
    "            balanco.append(conta - valor_aposta*2**erro)\n",
    "            erro += 1 \n",
    "        conta = balanco[-1]\n",
    "        \n",
    "    balanco = [i - balanco[0] for i in balanco]   \n",
    "    \n",
    "    return balanco, valores_apostados\n",
    "\n",
    "def plot_strategy(y_balanco,y_aposta,estrategia,alvo,valor_aposta):\n",
    "    x = list(range(len(y_balanco)))\n",
    "    plt.plot(x, y_balanco, label='Lucro Acumulado')\n",
    "    plt.bar(x, y_aposta, label='Valor da aposta', color='orange', alpha=0.7)\n",
    "    plt.xlabel('Numero de apostas')\n",
    "    plt.ylabel('$')\n",
    "    plt.title(f'Cenário hipotetico apostando no alvo de  {alvo}x, e usando {valor_aposta} como primeira aposta - {estrategia}')\n",
    "    plt.legend()\n",
    "    plt.show()"
   ]
  },
  {
   "cell_type": "code",
   "execution_count": 76,
   "metadata": {},
   "outputs": [
    {
     "name": "stdout",
     "output_type": "stream",
     "text": [
      "1310.72\n",
      "2595.7900000010573\n"
     ]
    }
   ],
   "source": [
    "balanco_m, apostas_m = Martingale(resultados,alvo,valor_aposta,conta)\n",
    "print(max(apostas_m))\n",
    "print(balanco_m[-1])\n",
    "#plot_strategy(balanco_m,apostas_m,\"Martingale\",alvo,valor_aposta)"
   ]
  },
  {
   "cell_type": "markdown",
   "metadata": {},
   "source": [
    "### Analise de Valor Esperado\n",
    "a ideia é ver a longo prazo quando cada tipo de aposta simple irá me dar de retorno \n",
    "https://en.wikipedia.org/wiki/Expected_value\n",
    "\n",
    "\n",
    "E[X]=x \n",
    "1\n",
    "​\n",
    " ⋅p \n",
    "1\n",
    "​\n",
    " +x \n",
    "2\n",
    "​\n",
    " ⋅p \n",
    "2\n",
    "​\n",
    " +…+x \n",
    "k\n",
    "​\n",
    " ⋅p \n",
    "k\n",
    "​\n",
    "\n"
   ]
  },
  {
   "cell_type": "code",
   "execution_count": 88,
   "metadata": {},
   "outputs": [
    {
     "data": {
      "image/png": "[encoded data removed]",
      "text/plain": [
       "<Figure size 640x480 with 1 Axes>"
      ]
     },
     "metadata": {},
     "output_type": "display_data"
    }
   ],
   "source": [
    "#p erro = (resultados < multiplicador).mean()\n",
    "#p acerto = (resultados >= multiplicador).mean()\n",
    "esperanca,alvo = [],[]\n",
    "\n",
    "alvo = np.linspace(101, 1001, 901) / 100\n",
    "esperanca = [(resultados < x).mean() * -1 + (x - 1)*(resultados >= x).mean() for x in alvo]\n",
    "\n",
    "plt.plot(alvo, esperanca, linewidth=3, color='red')\n",
    "\n",
    "plt.xlabel('Multiplicador Alvo')\n",
    "plt.ylabel('Valor Esperado ($)')\n",
    "#plt.title(f'Cenário hipotetico apostando no alvo de  {alvo}x, e usando {valor_aposta} como primeira aposta - {estrategia}')\n",
    "\n",
    "plt.show()"
   ]
  },
  {
   "cell_type": "code",
   "execution_count": null,
   "metadata": {},
   "outputs": [],
   "source": []
  }
 ],
 "metadata": {
  "kernelspec": {
   "display_name": "Python 3",
   "language": "python",
   "name": "python3"
  },
  "language_info": {
   "codemirror_mode": {
    "name": "ipython",
    "version": 3
   },
   "file_extension": ".py",
   "mimetype": "text/x-python",
   "name": "python",
   "nbconvert_exporter": "python",
   "pygments_lexer": "ipython3",
   "version": "3.10.4"
  }
 },
 "nbformat": 4,
 "nbformat_minor": 2
}
